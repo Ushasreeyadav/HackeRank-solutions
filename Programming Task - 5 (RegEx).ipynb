{
 "cells": [
  {
   "cell_type": "code",
   "execution_count": null,
   "id": "5ef166ea",
   "metadata": {},
   "outputs": [],
   "source": [
    "# Detect Floating Point Number"
   ]
  },
  {
   "cell_type": "code",
   "execution_count": 2,
   "id": "d4daa7c5",
   "metadata": {},
   "outputs": [
    {
     "name": "stdout",
     "output_type": "stream",
     "text": [
      "4\n",
      "4.0O0\n",
      "False\n",
      "-1.00\n",
      "True\n",
      "+4.54\n",
      "True\n",
      "SomeRandomStuff\n",
      "False\n"
     ]
    }
   ],
   "source": [
    "def isFloat(num):\n",
    "    try:\n",
    "        float(num)\n",
    "        return True\n",
    "    except ValueError:\n",
    "        return False\n",
    "\n",
    "for _ in range(int(input())):\n",
    "    z = input()\n",
    "    if z == \"0\":\n",
    "        print(\"False\")\n",
    "    else:\n",
    "        print(isFloat(z))"
   ]
  },
  {
   "cell_type": "code",
   "execution_count": null,
   "id": "dc9421c4",
   "metadata": {},
   "outputs": [],
   "source": [
    "# Re.split()"
   ]
  },
  {
   "cell_type": "code",
   "execution_count": 3,
   "id": "8a7de3df",
   "metadata": {},
   "outputs": [
    {
     "name": "stdout",
     "output_type": "stream",
     "text": [
      "100,000,000.000\n",
      "100\n",
      "000\n",
      "000\n",
      "000\n"
     ]
    }
   ],
   "source": [
    "regex_pattern = r\"[.,]+\"\t# Do not delete 'r'.\n",
    "\n",
    "import re\n",
    "print(\"\\n\".join(re.split(regex_pattern, input())))"
   ]
  },
  {
   "cell_type": "code",
   "execution_count": null,
   "id": "cde33080",
   "metadata": {},
   "outputs": [],
   "source": [
    "# Group(), Groups() & Groupdict()"
   ]
  },
  {
   "cell_type": "code",
   "execution_count": 4,
   "id": "7757b6bd",
   "metadata": {},
   "outputs": [
    {
     "name": "stdout",
     "output_type": "stream",
     "text": [
      "..12345678910111213141516171820212223\n",
      "1\n"
     ]
    }
   ],
   "source": [
    "import re\n",
    "\n",
    "m = re.search(r'([a-zA-Z0-9])\\1+', input()) \n",
    "print(m.group(1) if m else -1)"
   ]
  },
  {
   "cell_type": "code",
   "execution_count": null,
   "id": "833ed2b5",
   "metadata": {},
   "outputs": [],
   "source": [
    "# Re.findall() & Re.finditer()"
   ]
  },
  {
   "cell_type": "code",
   "execution_count": 5,
   "id": "a700b83d",
   "metadata": {},
   "outputs": [
    {
     "name": "stdout",
     "output_type": "stream",
     "text": [
      "rabcdeefgyYhFjkIoomnpOeorteeeeet\n",
      "ee\n",
      "Ioo\n",
      "Oeo\n",
      "eeeee\n"
     ]
    }
   ],
   "source": [
    "import re\n",
    "v = \"aeiou\" \n",
    "c = \"qwrtypsdfghjklzxcvbnm\" \n",
    "m = re.findall(r\"(?<=[%s])([%s]{2,})[%s]\" % (c, v, c), input(), flags = re.I) \n",
    "print('\\n'.join(m or ['-1']))"
   ]
  },
  {
   "cell_type": "code",
   "execution_count": null,
   "id": "9718f432",
   "metadata": {},
   "outputs": [],
   "source": [
    "# Re.start() & Re.end()"
   ]
  },
  {
   "cell_type": "code",
   "execution_count": 7,
   "id": "5fbb6904",
   "metadata": {},
   "outputs": [
    {
     "name": "stdout",
     "output_type": "stream",
     "text": [
      "aaadaa\n",
      "aa\n",
      "(0, 1)\n",
      "(1, 2)\n",
      "(4, 5)\n"
     ]
    }
   ],
   "source": [
    "import re\n",
    "text= input()\n",
    "compil = re.compile('(?<=('+input()+'))')\n",
    "if compil.search(text) is not None:\n",
    "    for i in compil.finditer(text):\n",
    "       print((i.start(1),i.end(1)-1))\n",
    "else:\n",
    "    print((-1, -1))"
   ]
  },
  {
   "cell_type": "code",
   "execution_count": null,
   "id": "06e143ab",
   "metadata": {},
   "outputs": [],
   "source": [
    "# Regex Substitution"
   ]
  },
  {
   "cell_type": "code",
   "execution_count": null,
   "id": "6603a82a",
   "metadata": {},
   "outputs": [],
   "source": [
    "import re\n",
    "trans = {'||': 'or', '&&': 'and'}\n",
    "for _ in range(int(input())):\n",
    "    print(re.sub('(?!^)(?<= )(\\|\\||&&)(?= )', lambda m: trans[m.group(1)], input()))"
   ]
  },
  {
   "cell_type": "code",
   "execution_count": null,
   "id": "d0b735db",
   "metadata": {},
   "outputs": [],
   "source": [
    "# Validating Roman Numerals"
   ]
  },
  {
   "cell_type": "code",
   "execution_count": 9,
   "id": "88256a2f",
   "metadata": {},
   "outputs": [
    {
     "name": "stdout",
     "output_type": "stream",
     "text": [
      "CDXXI\n",
      "True\n"
     ]
    }
   ],
   "source": [
    "regex_pattern = r\"^M{0,3}(CM|CD|D?C{0,3})(XC|XL|L?X{0,3})(IX|IV|V?I{0,3})$\"\t# Do not delete 'r'.\n",
    "\n",
    "import re\n",
    "print(str(bool(re.match(regex_pattern, input()))))"
   ]
  },
  {
   "cell_type": "code",
   "execution_count": null,
   "id": "f6b0c09b",
   "metadata": {},
   "outputs": [],
   "source": [
    "# Validating phone numbers"
   ]
  },
  {
   "cell_type": "code",
   "execution_count": 10,
   "id": "6c5bc7a2",
   "metadata": {},
   "outputs": [
    {
     "name": "stdout",
     "output_type": "stream",
     "text": [
      "2\n",
      "9587456281\n",
      "YES\n",
      "1252478965\n",
      "NO\n"
     ]
    }
   ],
   "source": [
    "import re\n",
    "\n",
    "for _ in range(int(input())):\n",
    "    print('YES' if re.match(r'^[7-9]\\d{9}$', input()) else 'NO')"
   ]
  },
  {
   "cell_type": "code",
   "execution_count": null,
   "id": "7cd112df",
   "metadata": {},
   "outputs": [],
   "source": [
    "# Validating and Parsing Email Addresses"
   ]
  },
  {
   "cell_type": "code",
   "execution_count": 11,
   "id": "237d74cd",
   "metadata": {},
   "outputs": [
    {
     "name": "stdout",
     "output_type": "stream",
     "text": [
      "2\n",
      "DEXTER <dexter@hotmail.com>\n",
      "DEXTER <dexter@hotmail.com>\n",
      "VIRUS <virus!@variable.:p>\n"
     ]
    }
   ],
   "source": [
    "import re\n",
    "\n",
    "for _ in range(int(input())):\n",
    "    s = input()\n",
    "    if re.search(r'<[a-zA-Z][\\w\\-.]+@[a-zA-Z]+\\.[a-zA-Z]{1,3}>', s):\n",
    "        print(s)"
   ]
  },
  {
   "cell_type": "code",
   "execution_count": null,
   "id": "7f06e336",
   "metadata": {},
   "outputs": [],
   "source": [
    "# Hex Color Code"
   ]
  },
  {
   "cell_type": "code",
   "execution_count": null,
   "id": "7238b862",
   "metadata": {},
   "outputs": [],
   "source": [
    "import re\n",
    "css = ''.join([input() for _ in range(int(input()))])\n",
    "hex_colors = re.findall(r'(#[A-Fa-f0-9]{6}|#[A-Fa-f0-9]{3})', ''.join(re.findall(r'{([^}]+)}', css)))\n",
    "print(*hex_colors, sep='\\n')"
   ]
  },
  {
   "cell_type": "code",
   "execution_count": null,
   "id": "5576046b",
   "metadata": {},
   "outputs": [],
   "source": [
    "# HTML Parser - Part 1"
   ]
  },
  {
   "cell_type": "code",
   "execution_count": 15,
   "id": "a20595e7",
   "metadata": {},
   "outputs": [
    {
     "name": "stdout",
     "output_type": "stream",
     "text": [
      "2\n",
      "<html><head><title>HTML Parser - I</title></head>\n",
      "<body data-modal-target class='1'><h1>HackerRank</h1><br /></body></html>\n",
      "Start : html\n",
      "Start : head\n",
      "Start : title\n",
      "End   : title\n",
      "End   : head\n",
      "Start : body\n",
      "-> data-modal-target > None\n",
      "-> class > 1\n",
      "Start : h1\n",
      "End   : h1\n",
      "Empty : br\n",
      "End   : body\n",
      "End   : html\n"
     ]
    }
   ],
   "source": [
    "from html.parser import HTMLParser\n",
    "\n",
    "class MyHTMLParser(HTMLParser):\n",
    "    def handle_starttag(self, tag, attrs):\n",
    "        print(f\"Start : {tag}\")\n",
    "        for name, value in attrs:\n",
    "            print(f\"-> {name} > {value}\")\n",
    "    def handle_endtag(self, tag):\n",
    "        print(f\"End   : {tag}\")\n",
    "    def handle_startendtag(self, tag, attrs):\n",
    "        print(f\"Empty : {tag}\")\n",
    "        for name, value in attrs:\n",
    "            print(f\"-> {name} > {value}\")\n",
    "\n",
    "parser = MyHTMLParser()\n",
    "html_data = ''\n",
    "for _ in range(int(input())):\n",
    "    html_data += input()\n",
    "parser.feed(html_data)"
   ]
  },
  {
   "cell_type": "code",
   "execution_count": null,
   "id": "3cfeb6f4",
   "metadata": {},
   "outputs": [],
   "source": [
    "# HTML Parser - Part 2"
   ]
  },
  {
   "cell_type": "code",
   "execution_count": 16,
   "id": "cfaa5b90",
   "metadata": {},
   "outputs": [
    {
     "name": "stdout",
     "output_type": "stream",
     "text": [
      "4\n",
      "<!--[if IE 9]>IE9-specific content\n",
      "<![endif]-->\n",
      "<div> Welcome to HackerRank</div>\n",
      "<!--[if IE 9]>IE9-specific content<![endif]-->\n",
      ">>> Multi-line Comment\n",
      "[if IE 9]>IE9-specific content\n",
      "<![endif]\n",
      ">>> Data\n",
      " Welcome to HackerRank\n",
      ">>> Single-line Comment\n",
      "[if IE 9]>IE9-specific content<![endif]\n"
     ]
    }
   ],
   "source": [
    "from html.parser import HTMLParser\n",
    "\n",
    "class MyHTMLParser(HTMLParser):\n",
    "    def handle_comment(self, data):\n",
    "        data = str(data).split('\\n')\n",
    "        if len(data)>1:\n",
    "            print('>>> Multi-line Comment', *data, sep='\\n')\n",
    "        else:\n",
    "            print('>>> Single-line Comment', data[0], sep='\\n')            \n",
    "    def handle_data(self, data):\n",
    "        data = str(data).replace('\\n', '')\n",
    "        if len(data)>0:\n",
    "            print('>>> Data', data, sep='\\n')\n",
    "  \n",
    "  \n",
    "html = \"\"       \n",
    "for i in range(int(input())):\n",
    "    html += input().rstrip()\n",
    "    html += '\\n'\n",
    "    \n",
    "parser = MyHTMLParser()\n",
    "parser.feed(html)\n",
    "parser.close()"
   ]
  },
  {
   "cell_type": "code",
   "execution_count": null,
   "id": "a5b04485",
   "metadata": {},
   "outputs": [],
   "source": [
    "# Detect HTML Tags, Attributes and Attribute Values"
   ]
  },
  {
   "cell_type": "code",
   "execution_count": 17,
   "id": "465beae3",
   "metadata": {},
   "outputs": [
    {
     "name": "stdout",
     "output_type": "stream",
     "text": [
      "9\n",
      "<head>\n",
      "<title>HTML</title>\n",
      "</head>\n",
      "<object type=\"application/x-flash\" \n",
      "  data=\"your-file.swf\"\n",
      "  width=\"0\" height=\"0\">\n",
      "  <!-- <param name=\"movie\" value=\"your-file.swf\" /> -->\n",
      "  <param name=\"quality\" value=\"high\"/>\n",
      "</object>\n",
      "head\n",
      "title\n",
      "object\n",
      "-> type > application/x-flash\n",
      "-> data > your-file.swf\n",
      "-> width > 0\n",
      "-> height > 0\n",
      "param\n",
      "-> name > quality\n",
      "-> value > high\n"
     ]
    }
   ],
   "source": [
    "from html.parser import HTMLParser\n",
    "\n",
    "text = '\\n'.join([input() for _ in range(int(input()))])\n",
    "\n",
    "class MyHTMLParser(HTMLParser):\n",
    "        def handle_starttag(self, tag, attrs):\n",
    "                print(tag)\n",
    "                for attr in attrs:\n",
    "                        print('->', attr[0], '>', attr[1])\n",
    "\n",
    "parser = MyHTMLParser()\n",
    "parser.feed(text)"
   ]
  },
  {
   "cell_type": "code",
   "execution_count": null,
   "id": "6638c44a",
   "metadata": {},
   "outputs": [],
   "source": [
    "# Validating UID"
   ]
  },
  {
   "cell_type": "code",
   "execution_count": 18,
   "id": "ba01a733",
   "metadata": {},
   "outputs": [
    {
     "name": "stdout",
     "output_type": "stream",
     "text": [
      "2\n",
      "B1CD102354\n",
      "Invalid\n",
      "B1CDEF2354\n",
      "Valid\n"
     ]
    }
   ],
   "source": [
    "import re\n",
    "for _ in range(int(input())):\n",
    "    s = input()\n",
    "    match = bool(re.match(r\"^[a-zA-Z0-9]{10}$\", s)) and not bool(re.findall(r'(.)(?=.*\\1)', s)) and bool(re.search(r'\\d.*\\d.*\\d', s)) and bool(re.search(r'[A-Z].*[A-Z]', s))\n",
    "    print('Valid' if match else 'Invalid')"
   ]
  },
  {
   "cell_type": "code",
   "execution_count": null,
   "id": "e731b529",
   "metadata": {},
   "outputs": [],
   "source": [
    "# Validating Credit Card Numbers"
   ]
  },
  {
   "cell_type": "code",
   "execution_count": 19,
   "id": "57bc2706",
   "metadata": {},
   "outputs": [
    {
     "name": "stdout",
     "output_type": "stream",
     "text": [
      "6\n",
      "4123456789123456\n",
      "Valid\n",
      "5123-4567-8912-3456\n",
      "Valid\n",
      "61234-567-8912-3456\n",
      "Invalid\n",
      "4123356789123456\n",
      "Valid\n",
      "5133-3367-8912-3456\n",
      "Invalid\n",
      "5123 - 3567 - 8912 - 3456\n",
      "Invalid\n"
     ]
    }
   ],
   "source": [
    "import re\n",
    "\n",
    "for _ in range(int(input())):\n",
    "    print('Valid' if re.match(r'(?=[4-6][\\d]{3}(?:-?[\\d]{4}){3}$)(?!.*(\\d)(?:-?\\1){3}).*', input()) else 'Invalid')"
   ]
  },
  {
   "cell_type": "code",
   "execution_count": null,
   "id": "1c82f765",
   "metadata": {},
   "outputs": [],
   "source": [
    "# Validating Postal Codes"
   ]
  },
  {
   "cell_type": "code",
   "execution_count": 20,
   "id": "d505cde3",
   "metadata": {},
   "outputs": [
    {
     "name": "stdout",
     "output_type": "stream",
     "text": [
      "110000\n",
      "False\n"
     ]
    }
   ],
   "source": [
    "regex_integer_in_range = r\"^[1-9]\\d{5}$\"\t# Do not delete 'r'.\n",
    "regex_alternating_repetitive_digit_pair = r\"(\\d)(?=\\d\\1)\"\t# Do not delete 'r'.\n",
    "\n",
    "\n",
    "import re\n",
    "P = input()\n",
    "\n",
    "print (bool(re.match(regex_integer_in_range, P)) \n",
    "and len(re.findall(regex_alternating_repetitive_digit_pair, P)) < 2)"
   ]
  },
  {
   "cell_type": "code",
   "execution_count": null,
   "id": "fb3a3f17",
   "metadata": {},
   "outputs": [],
   "source": [
    "# Matrix Script"
   ]
  },
  {
   "cell_type": "code",
   "execution_count": null,
   "id": "dc877b3d",
   "metadata": {},
   "outputs": [],
   "source": [
    "import math\n",
    "import os\n",
    "import random\n",
    "import re\n",
    "import sys\n",
    "\n",
    "first_multiple_input = input().rstrip().split()\n",
    "\n",
    "n = int(first_multiple_input[0])\n",
    "m = int(first_multiple_input[1])\n",
    "\n",
    "matrix = []\n",
    "\n",
    "for _ in range(n):\n",
    "    matrix_item = input()\n",
    "    matrix.append(matrix_item)\n",
    "\n",
    "string = \"\"\n",
    "for i in range(m):\n",
    "    for j in range(n):\n",
    "        string += (matrix[j][i])\n",
    " \n",
    "string = re.sub(r\"\\b\\W+\\b\", \" \", string)\n",
    "print(string)"
   ]
  }
 ],
 "metadata": {
  "kernelspec": {
   "display_name": "Python 3 (ipykernel)",
   "language": "python",
   "name": "python3"
  },
  "language_info": {
   "codemirror_mode": {
    "name": "ipython",
    "version": 3
   },
   "file_extension": ".py",
   "mimetype": "text/x-python",
   "name": "python",
   "nbconvert_exporter": "python",
   "pygments_lexer": "ipython3",
   "version": "3.9.12"
  }
 },
 "nbformat": 4,
 "nbformat_minor": 5
}
